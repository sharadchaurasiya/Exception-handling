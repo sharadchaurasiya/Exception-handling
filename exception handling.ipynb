{
 "cells": [
  {
   "cell_type": "markdown",
   "id": "f909f6d9-20cf-4908-9212-8120cc0c1355",
   "metadata": {},
   "source": [
    "THEORY QUESTIONS"
   ]
  },
  {
   "cell_type": "markdown",
   "id": "d784adf7-f628-4395-8152-a5118d4fb01c",
   "metadata": {},
   "source": [
    "1. What is the difference between interpreted and compiled languages?\n",
    "-  In interpreted language Code is read and executed line by line by an interpreter at          runtime but In compiled language code is compile before execution.\n",
    "\n",
    "2.  What is exception handling in Python?\n",
    "-   Exception handling in Python is a mechanism that allows you to deal with unexpected          errors gracefully, rather than letting them crash your program. Python uses the try and      except blocks to handle exceptions.\n",
    "\n",
    "3. What is the purpose of the finally block in exception handling?\n",
    "-  The finally block in Python exception handling ensures that certain code runs no matter      what—whether an exception occurs or not. It’s commonly used for cleanup operations like      closing files, releasing resources, or disconnecting from a database.\n",
    "\n",
    "4. What is logging in Python ?\n",
    "-  Logging in Python is a way to track events that happen while a program runs, making it       easier to debug and monitor applications.\n",
    "\n",
    "5. What is the significance of the __del__ method in Python?\n",
    "-  The __del__ method in Python is a special method known as the destructor. It is            automatically called when an object is about to be destroyed, typically when it goes       out of scope or is explicitly deleted using del.\n",
    "\n",
    "6. What is the difference between import and from ... import in Python?\n",
    "-  Import imports the entire module but from ... import imports the specific function or      variable from  a module.\n",
    "\n",
    "7. How can you handle multiple exceptions in Python0?\n",
    "-  I can handle multiple exceptions using multiple except blocks or a single except block     with multiple exception types.\n",
    "\n",
    "8. What is the purpose of the with statement when handling files in Python?\n",
    "-  The with statement in Python is used for handling files because it ensures that            resources are properly managed, even if an error occurs. It automatically closes the       file after the block of code is executed, making code cleaner and reducing the risk of     forgetting to close a file manually.\n",
    "\n",
    "9. What is the difference between multithreading and multiprocessing?\n",
    "-  Difference between multithreading and multiprocessing -\n",
    "   1. Multithreading\n",
    "    1.Uses multiple threads within the same process.\n",
    "\n",
    "    2.Threads share the same memory space, making communication between them easier.\n",
    "\n",
    "    3.Best suited for tasks that involve I/O operations, like reading/writing files or           handling network requests.\n",
    "      Example: A web server handling multiple requests using threads.\n",
    "\n",
    "   2. Multiprocessing\n",
    "   1.Uses multiple processes, each with its own memory space.\n",
    "\n",
    "   2.Better for CPU-intensive tasks, like image processing or data crunching.\n",
    "\n",
    "   3.Avoids Python's Global Interpreter Lock (GIL), meaning true parallel execution.\n",
    "\n",
    "    Example: Running multiple calculations in parallel.\n",
    "\n",
    "10. What are the advantages of using logging in a program?\n",
    "-   Advantages of using logging :-\n",
    "    1. Easier debugging.\n",
    "    2. Improved monitering.\n",
    "    3. Helps in eroor analysis.\n",
    "    4. Supports Different Severity Levels.\n",
    "    5. Efficient Resource mangement.\n",
    "    6. Saves time.\n",
    "\n",
    "11. What is memory management in Python?\n",
    "-   Memory management in Python refers to how the language handles the allocation and          deallocation of memory for objects and variables. Python has an automatic memory           management system.\n",
    "\n",
    "12. What are the basic steps involved in exception handling in Python?\n",
    "-   Here are the basic steps involved in exception handling in pyhton:\n",
    "    1. Use a try Block\n",
    "       Wrap the code that might raise an exception inside a try block.\n",
    "    2. Catch Exceptions with except\n",
    "       If an error occurs, the except block executes instead of stopping the program.\n",
    "    3. Use finally (Optional)\n",
    "       The finally block always executes, no matter what—great for cleanup tasks.\n",
    "    4. Raise Exceptions (Optional)\n",
    "       You can manually trigger exceptions using the raise statement.\n",
    "\n",
    "13. Why is memory management important in Python?\n",
    "-   Memory management import in python , in these terms :\n",
    "    1.Prevents Memory Leaks\n",
    "     Unused objects are removed via garbage collection, avoiding excessive memory               consumption.\n",
    "\n",
    "    2.Optimizes Performance\n",
    "      Python’s memory allocator efficiently manages small objects, reducing fragmentation.\n",
    "\n",
    "    3.Enhances Code Stability\n",
    "      Proper handling of memory ensures programs run smoothly without unexpected crashes.\n",
    "\n",
    "    4.Supports Large-Scale Applications\n",
    "      Good memory management is key for handling big datasets or complex computations.\n",
    "\n",
    "14. What is the role of try and except in exception handling?\n",
    "-   Role of try and except\n",
    "    try block: Contains the code that might raise an exception.\n",
    "\n",
    "   except block: Handles the error if an exception occurs, preventing the program from        stopping unexpectedly.\n",
    "\n",
    "15.  How does Python's garbage collection system work?\n",
    "-   Python’s garbage collection system is designed to automatically manage memory by           removing unused objects, preventing memory leaks and optimizing performance.\n",
    "\n",
    "16. What is the purpose of the else block in exception handling?\n",
    "-  else block provides a way to execute code only if no exceptions occur in the try block.    It helps separate error-handling logic from regular code, making programs cleaner and      more readable.\n",
    "\n",
    "17. What are the common logging levels in Python?\n",
    "-   Common Logging Levels:\n",
    "    1.DEBUG (10) – Used for detailed diagnostic messages, typically during development.\n",
    "\n",
    "    2.INFO (20) – General informational messages to indicate program execution.\n",
    "   3.WARNING (30) – Signals potential issues that don’t stop execution but should be            monitored.\n",
    "   4.  ERROR (40) – Used when something goes wrong, but the program can still continue\n",
    "   5.CRITICAL (50) – Indicates severe issues that require immediate attention.\n",
    "\n",
    "18. What is the difference between os.fork() and multiprocessing in Python?\n",
    "-   1. os.fork() (Unix-based systems only)\n",
    "    Creates a child process by duplicating the current process.\n",
    "\n",
    "    The child process inherits the parent’s memory space.\n",
    "\n",
    "    Efficient for lightweight process creation.\n",
    "\n",
    "    Only available on Unix-based systems (Linux/macOS).\n",
    "\n",
    "    Requires careful handling to avoid issues like zombie processes.\n",
    "\n",
    "    Example using os.fork():\n",
    "\n",
    "    2. multiprocessing Module (Cross-platform)\n",
    "     Creates a new independent process with separate memory space.\n",
    "\n",
    "     Avoids Python’s Global Interpreter Lock (GIL), enabling true parallel execution.\n",
    "\n",
    "     Works on both Windows and Unix.\n",
    "\n",
    "     Better for CPU-intensive tasks.\n",
    "   \n",
    "     Example using multiprocessing:\n",
    "\n",
    "19. What is the importance of closing a file in Python?\n",
    "-   Closing a file in Python is important because it ensures that system resources are         freed and that data is properly written to disk. If a file remains open, it can lead       to memory leaks, data corruption, or issues with other programs accessing the file.\n",
    "\n",
    "20. What is the difference between file.read() and file.readline() in Python?\n",
    "-   The difference between file.read() and file.readline() in Python:-\n",
    "    1. file.read()\n",
    "     1.Reads the entire file (or a specified number of characters).\n",
    "\n",
    "     2.If called multiple times, it will return an empty string since the file pointer           reaches the end.\n",
    "    \n",
    "     2. file.readline()\n",
    "     Reads only one line at a time.\n",
    "\n",
    "     When used repeatedly, it reads the next line on each call.\n",
    "\n",
    "21.  What is the logging module in Python used for?\n",
    "-    The logging module in Python is used for tracking events in a program, making              debugging, error handling, and monitoring more efficient. Instead of using print(),        logging provides a structured way to record messages with different severity levels.\n",
    "\n",
    "22. What is the os module in Python used for in file handling?\n",
    "-   The os module in Python provides a way to interact with the operating system, making       it essential for handling files and directories.\n",
    "\n",
    "23. What are the challenges associated with memory management in Python?\n",
    "-   Challenges in Python Memory Management:\n",
    "    1.Memory Leaks\n",
    "     If objects remain referenced but are no longer needed, they can cause leaks.\n",
    "     Example: Large data structures held in global scope never get freed.\n",
    "    2.Circular References\n",
    "    Two or more objects referencing each other can prevent automatic garbage collection.\n",
    "    Python's garbage collector detects circular references, but not always efficiently.\n",
    "\n",
    "     3.Global Interpreter Lock (GIL)\n",
    "     Limits Python’s ability to fully utilize multiple CPU cores.\n",
    "     Can lead to inefficient memory usage in multi-threaded applications.\n",
    "\n",
    "    4.High Memory Consumption\n",
    "     Python's dynamic typing requires extra memory overhead.\n",
    "     Small objects (integers, strings) may consume more memory due to object metadata.\n",
    "\n",
    "    5.Fragmentation in Long-running Programs\n",
    "    Continuous allocation and deallocation can lead to fragmented memory.\n",
    "    Can reduce efficiency in applications that run indefinitely.\n",
    "\n",
    "24. How do you raise an exception manually in Python?\n",
    "-   In Python, you can manually raise an exception using the raise statement. This is          useful when you want to handle specific errors in your program or enforce conditions       that must be met.\n",
    "\n",
    "25. Why is it important to use multithreading in certain applications?\n",
    "-   Multithreading is essential in certain applications because it enables concurrent execution, improving performance and responsiveness. While Python has a Global Interpreter Lock (GIL) that limits CPU-bound threading, multithreading is still highly effective for I/O-bound tasks."
   ]
  },
  {
   "cell_type": "markdown",
   "id": "b1ee8713-9b60-4977-ae50-dc642e2196b9",
   "metadata": {},
   "source": [
    "PRACTICAL QUESTIONS"
   ]
  },
  {
   "cell_type": "code",
   "execution_count": 7,
   "id": "05b26a62-1802-4cc1-b9b3-f829add169c2",
   "metadata": {},
   "outputs": [],
   "source": [
    "# 1. How can you open a file for writing in Python and write a string to it?\n",
    "with open(\"example.txt\", \"w\") as file:\n",
    "    \n",
    "    file.write(\"Hello, world!\")"
   ]
  },
  {
   "cell_type": "code",
   "execution_count": 11,
   "id": "00376663-f683-47df-80fd-f61873fc36e6",
   "metadata": {},
   "outputs": [
    {
     "name": "stdout",
     "output_type": "stream",
     "text": [
      "Hello, world!\n"
     ]
    }
   ],
   "source": [
    "# 2. Write a Python program to read the contents of a file and print each line?\n",
    "with open(\"example.txt\",\"r\") as file:\n",
    "    for line in file:\n",
    "        print(line.strip()) \n",
    "    \n",
    "    "
   ]
  },
  {
   "cell_type": "code",
   "execution_count": 55,
   "id": "95666807-1fe5-4fd0-867f-0ec6341ad601",
   "metadata": {},
   "outputs": [
    {
     "name": "stdout",
     "output_type": "stream",
     "text": [
      "Error: The file does not exist. Please check the filename and try again.\n"
     ]
    }
   ],
   "source": [
    "# 3. How would you handle a case where the file doesn't exist while trying to open it for reading?\n",
    "try:\n",
    "    # Attempt to open the file in read mode\n",
    "    with open(\"non_existent_file.txt\", \"r\") as file:\n",
    "        for line in file:\n",
    "            print(line.strip())\n",
    "except FileNotFoundError:\n",
    "    print(\"Error: The file does not exist. Please check the filename and try again.\")\n"
   ]
  },
  {
   "cell_type": "code",
   "execution_count": 35,
   "id": "62f6e1de-a89f-41ad-8515-b28c62d9a259",
   "metadata": {},
   "outputs": [
    {
     "name": "stdout",
     "output_type": "stream",
     "text": [
      "Contents from 'source.txt' have been successfully copied to 'destination.txt'.\n"
     ]
    }
   ],
   "source": [
    "# 4. Write a Python script that reads from one file and writes its content to another file?\n",
    "# Define source and destination file names\n",
    "source_file = (\"source.txt\")\n",
    "destination_file = \"destination.txt\"\n",
    "\n",
    "try:\n",
    "    # Open the source file for reading\n",
    "    with open(source_file, \"r\") as src:\n",
    "        # Open the destination file for writing\n",
    "        with open(destination_file, \"w\") as dest:\n",
    "            # Read from source and write to destination\n",
    "            for line in src:\n",
    "                dest.write(line)\n",
    "    \n",
    "    print(f\"Contents from '{source_file}' have been successfully copied to '{destination_file}'.\")\n",
    "except FileNotFoundError:\n",
    "    print(f\"Error: '{source_file}' does not exist. Please check the filename and try again.\")\n"
   ]
  },
  {
   "cell_type": "code",
   "execution_count": 41,
   "id": "bca04d86-ef1f-469d-953c-465cd1e32cba",
   "metadata": {},
   "outputs": [
    {
     "name": "stdout",
     "output_type": "stream",
     "text": [
      "there is scene zero division error division by zero\n"
     ]
    }
   ],
   "source": [
    "# 5.How would you catch and handle division by zero error in Python?\n",
    "try: \n",
    "    10/0\n",
    "except ZeroDivisionError as e:\n",
    "    print(\"there is scene zero division error\",e)\n",
    "    "
   ]
  },
  {
   "cell_type": "code",
   "execution_count": 43,
   "id": "46209e5e-21de-4c6a-b778-ff09fd2dce6f",
   "metadata": {},
   "outputs": [
    {
     "name": "stdout",
     "output_type": "stream",
     "text": [
      "Error: Division by zero occurred.\n"
     ]
    }
   ],
   "source": [
    "# 6.  Write a Python program that logs an error message to a log file when a division by zero exception occursF?\n",
    "import logging\n",
    "\n",
    "# Configure logging settings\n",
    "logging.basicConfig(filename=\"error.log\", level=logging.ERROR, format=\"%(asctime)s - %(levelname)s - %(message)s\")\n",
    "\n",
    "def safe_divide(numerator, denominator):\n",
    "    try:\n",
    "        result = numerator / denominator\n",
    "        print(\"Result:\", result)\n",
    "    except ZeroDivisionError:\n",
    "        error_message = \"Error: Division by zero occurred.\"\n",
    "        print(error_message)\n",
    "        logging.error(error_message)\n",
    "\n",
    "# Example usage\n",
    "safe_divide(10, 0)\n"
   ]
  },
  {
   "cell_type": "code",
   "execution_count": 45,
   "id": "d862526a-50f5-4e12-baef-b00aaa41fd91",
   "metadata": {},
   "outputs": [
    {
     "name": "stdout",
     "output_type": "stream",
     "text": [
      "Log messages have been written to 'app.log'.\n"
     ]
    }
   ],
   "source": [
    "# 7. How do you log information at different levels (INFO, ERROR, WARNING) in Python using the logging module\u001f\n",
    "import logging\n",
    "\n",
    "# Configure logging settings\n",
    "logging.basicConfig(\n",
    "    filename=\"app.log\",  # Log file name\n",
    "    level=logging.DEBUG,  # Sets the lowest level to capture\n",
    "    format=\"%(asctime)s - %(levelname)s - %(message)s\"\n",
    ")\n",
    "\n",
    "# Logging messages at different levels\n",
    "logging.info(\"This is an INFO message.\")\n",
    "logging.warning(\"This is a WARNING message.\")\n",
    "logging.error(\"This is an ERROR message.\")\n",
    "\n",
    "print(\"Log messages have been written to 'app.log'.\")\n"
   ]
  },
  {
   "cell_type": "code",
   "execution_count": 57,
   "id": "e70c818d-d67c-46e6-a211-8cc0d528d933",
   "metadata": {},
   "outputs": [
    {
     "name": "stdout",
     "output_type": "stream",
     "text": [
      "Error: The file does not exist. Please check the filename and try again.\n"
     ]
    }
   ],
   "source": [
    "# 8. Write a program to handle a file opening error using exception handling ?\n",
    "try:\n",
    "    # Attempt to open a non-existent file\n",
    "    with open(\"non_existent_file.txt\", \"r\") as file:\n",
    "        contents = file.read()\n",
    "        print(contents)\n",
    "except FileNotFoundError:\n",
    "    print(\"Error: The file does not exist. Please check the filename and try again.\")\n",
    "except PermissionError:\n",
    "    print(\"Error: You don’t have permission to open this file.\")\n",
    "except Exception as e:\n",
    "    print(f\"An unexpected error occurred: {e}\") \n",
    "    \n"
   ]
  },
  {
   "cell_type": "code",
   "execution_count": 59,
   "id": "7193275b-70f1-43a3-97dc-a62d80c74546",
   "metadata": {},
   "outputs": [
    {
     "name": "stdout",
     "output_type": "stream",
     "text": [
      "['Hello, world!']\n"
     ]
    }
   ],
   "source": [
    "# 9. How can you read a file line by line and store its content in a list in Python?\n",
    "# Open the file in read mode\n",
    "with open(\"example.txt\", \"r\") as file:\n",
    "    # Store lines in a list\n",
    "    lines = file.readlines()\n",
    "\n",
    "# Remove newline characters and print the list\n",
    "lines = [line.strip() for line in lines]\n",
    "print(lines)\n"
   ]
  },
  {
   "cell_type": "code",
   "execution_count": 61,
   "id": "344e33b3-4bfb-4449-8ebd-89d0eb895259",
   "metadata": {},
   "outputs": [],
   "source": [
    "# 10. How can you append data to an existing file in Python?\n",
    "# Open the file in append mode\n",
    "with open(\"example.txt\", \"a\") as file:\n",
    "    # Append new data to the file\n",
    "    file.write(\"\\nThis is new appended data.\")\n"
   ]
  },
  {
   "cell_type": "code",
   "execution_count": 63,
   "id": "af7aa59a-4c08-4604-9c01-2fac0c62550d",
   "metadata": {},
   "outputs": [
    {
     "name": "stdout",
     "output_type": "stream",
     "text": [
      "Error: The requested key does not exist in the dictionary.\n"
     ]
    }
   ],
   "source": [
    "# 11. F Write a Python program that uses a try-except block to handle an error when attempting to access a\n",
    "#    dictionary key that doesn't exist?\n",
    "# Define a sample dictionary\n",
    "data = {\"name\": \"Alice\", \"age\": 25, \"city\": \"New York\"}\n",
    "\n",
    "try:\n",
    "    # Attempt to access a key that might not exist\n",
    "    value = data[\"country\"]\n",
    "    print(f\"Value: {value}\")\n",
    "except KeyError:\n",
    "    print(\"Error: The requested key does not exist in the dictionary.\")\n"
   ]
  },
  {
   "cell_type": "code",
   "execution_count": 65,
   "id": "bfb3d30f-074e-4658-9c4a-80b1dbcbfa22",
   "metadata": {},
   "outputs": [
    {
     "name": "stdout",
     "output_type": "stream",
     "text": [
      "Error: Division by zero is not allowed.\n"
     ]
    }
   ],
   "source": [
    "# 12. Write a program that d?emonstrates using multiple except blocks to handle different types of exceptions?\n",
    "try:\n",
    "    # Attempt division by zero\n",
    "    result = 10 / 0  \n",
    "    print(result)\n",
    "\n",
    "    # Attempt to access a non-existent dictionary key\n",
    "    data = {\"name\": \"Alice\", \"age\": 25}\n",
    "    value = data[\"country\"]\n",
    "\n",
    "    # Attempt to open a non-existent file\n",
    "    with open(\"non_existent_file.txt\", \"r\") as file:\n",
    "        content = file.read()\n",
    "\n",
    "except ZeroDivisionError:\n",
    "    print(\"Error: Division by zero is not allowed.\")\n",
    "except KeyError:\n",
    "    print(\"Error: The requested key does not exist in the dictionary.\")\n",
    "except FileNotFoundError:\n",
    "    print(\"Error: The file does not exist.\")\n",
    "except Exception as e:\n",
    "    print(f\"An unexpected error occurred: {e}\")\n"
   ]
  },
  {
   "cell_type": "code",
   "execution_count": 67,
   "id": "039bebed-16cd-4b3f-9e45-95fb19210f20",
   "metadata": {},
   "outputs": [
    {
     "name": "stdout",
     "output_type": "stream",
     "text": [
      "Hello, world!\n",
      "This is new appended data.\n"
     ]
    }
   ],
   "source": [
    "# 13. How would you check if a file exists before attempting to read it in Python?\n",
    "import os\n",
    "\n",
    "file_name = \"example.txt\"\n",
    "\n",
    "if os.path.exists(file_name):\n",
    "    with open(file_name, \"r\") as file:\n",
    "        content = file.read()\n",
    "        print(content)\n",
    "else:\n",
    "    print(f\"Error: '{file_name}' does not exist.\")\n"
   ]
  },
  {
   "cell_type": "code",
   "execution_count": 69,
   "id": "c1c26efe-a0af-47a8-beb1-280839b9ba1c",
   "metadata": {},
   "outputs": [
    {
     "name": "stdout",
     "output_type": "stream",
     "text": [
      "Log messages have been written to 'app.log'.\n"
     ]
    }
   ],
   "source": [
    "# 14. Write a program that uses the logging module to log both informational and error messages?\n",
    "import logging\n",
    "\n",
    "# Configure logging settings\n",
    "logging.basicConfig(\n",
    "    filename=\"app.log\",  # Log file name\n",
    "    level=logging.DEBUG,  # Capture all log levels (DEBUG, INFO, WARNING, ERROR, CRITICAL)\n",
    "    format=\"%(asctime)s - %(levelname)s - %(message)s\"\n",
    ")\n",
    "\n",
    "def process_data(data):\n",
    "    try:\n",
    "        logging.info(\"Processing data...\")\n",
    "        \n",
    "        # Simulate a division operation\n",
    "        result = data[\"value\"] / data[\"divider\"]\n",
    "        logging.info(f\"Successful calculation: {result}\")\n",
    "        \n",
    "    except ZeroDivisionError:\n",
    "        logging.error(\"Error: Attempted division by zero.\")\n",
    "    except KeyError:\n",
    "        logging.error(\"Error: Missing required key in data dictionary.\")\n",
    "    except Exception as e:\n",
    "        logging.error(f\"Unexpected error: {e}\")\n",
    "\n",
    "# Example usage\n",
    "data_valid = {\"value\": 10, \"divider\": 2}\n",
    "data_invalid = {\"value\": 10, \"divider\": 0}\n",
    "data_missing_key = {\"value\": 10}\n",
    "\n",
    "process_data(data_valid)\n",
    "process_data(data_invalid)\n",
    "process_data(data_missing_key)\n",
    "\n",
    "print(\"Log messages have been written to 'app.log'.\")\n"
   ]
  },
  {
   "cell_type": "code",
   "execution_count": 71,
   "id": "1b3a4770-d117-4df1-bdc1-b50328b7ad20",
   "metadata": {},
   "outputs": [
    {
     "name": "stdout",
     "output_type": "stream",
     "text": [
      "File Contents:\n",
      " Hello, world!\n",
      "This is new appended data.\n"
     ]
    }
   ],
   "source": [
    "# 15. Write a Python program that prints the content of a file and handles the case when the file is empty?\n",
    "import os\n",
    "\n",
    "def print_file_contents(file_name):\n",
    "    try:\n",
    "        # Check if file exists and is not empty\n",
    "        if os.path.exists(file_name) and os.path.getsize(file_name) > 0:\n",
    "            with open(file_name, \"r\") as file:\n",
    "                contents = file.read()\n",
    "                print(\"File Contents:\\n\", contents)\n",
    "        else:\n",
    "            print(f\"Error: '{file_name}' is either missing or empty.\")\n",
    "    \n",
    "    except Exception as e:\n",
    "        print(f\"An unexpected error occurred: {e}\")\n",
    "\n",
    "# Example usage\n",
    "file_name = \"example.txt\"\n",
    "print_file_contents(file_name)\n"
   ]
  },
  {
   "cell_type": "code",
   "execution_count": 87,
   "id": "2543463b-d984-4a1e-bfca-85badbc1fa5c",
   "metadata": {},
   "outputs": [
    {
     "ename": "SyntaxError",
     "evalue": "invalid syntax (1910723076.py, line 2)",
     "output_type": "error",
     "traceback": [
      "\u001b[1;36m  Cell \u001b[1;32mIn[87], line 2\u001b[1;36m\u001b[0m\n\u001b[1;33m    pip install memory-profile\u001b[0m\n\u001b[1;37m        ^\u001b[0m\n\u001b[1;31mSyntaxError\u001b[0m\u001b[1;31m:\u001b[0m invalid syntax\n"
     ]
    }
   ],
   "source": [
    "# 16. Demonstrate how to use memory profilng to check the memory usage of a small program?\n",
    "pip install memory-profile\n",
    "from memory_profiler import profile\n",
    "\n",
    "@profile\n",
    "def my_function():\n",
    "    data = [x ** 2 for x in range(100000)]  # List comprehension consuming memory\n",
    "    return sum(data)\n",
    "\n",
    "if __name__ == \"__main__\":\n",
    "    my_function()\n"
   ]
  },
  {
   "cell_type": "code",
   "execution_count": 89,
   "id": "79cfd0d8-a855-4df0-9018-c26304d98ee0",
   "metadata": {},
   "outputs": [
    {
     "name": "stdout",
     "output_type": "stream",
     "text": [
      "Numbers have been successfully written to 'numbers.txt'.\n"
     ]
    }
   ],
   "source": [
    "# 17.  Write a Python program to create and write a list of numbers to a file, one number per line?\n",
    "# Define a list of numbers\n",
    "numbers = [1, 2, 3, 4, 5, 6, 7, 8, 9, 10]\n",
    "\n",
    "# Open the file in write mode\n",
    "with open(\"numbers.txt\", \"w\") as file:\n",
    "    for number in numbers:\n",
    "        file.write(f\"{number}\\n\")  # Write each number on a new line\n",
    "\n",
    "print(\"Numbers have been successfully written to 'numbers.txt'.\")\n"
   ]
  },
  {
   "cell_type": "code",
   "execution_count": 91,
   "id": "c2059c57-d9ec-4288-808f-2eb8a990f15d",
   "metadata": {},
   "outputs": [
    {
     "name": "stdout",
     "output_type": "stream",
     "text": [
      "Logging setup with rotation has been initialized.\n"
     ]
    }
   ],
   "source": [
    "# 18. How would you implement a basic logging setup that logs to a file with rotation after 1MB\u001f\n",
    "import logging\n",
    "from logging.handlers import RotatingFileHandler\n",
    "\n",
    "# Configure logging settings\n",
    "log_file = \"app.log\"\n",
    "max_size = 1 * 1024 * 1024  # 1MB\n",
    "backup_count = 3  # Keep last 3 log files\n",
    "\n",
    "# Create a rotating file handler\n",
    "handler = RotatingFileHandler(log_file, maxBytes=max_size, backupCount=backup_count)\n",
    "\n",
    "# Configure logging\n",
    "logging.basicConfig(\n",
    "    handlers=[handler],\n",
    "    level=logging.DEBUG,  # Capture all log levels\n",
    "    format=\"%(asctime)s - %(levelname)s - %(message)s\"\n",
    ")\n",
    "\n",
    "# Example log messages\n",
    "logging.info(\"This is an INFO message.\")\n",
    "logging.warning(\"This is a WARNING message.\")\n",
    "logging.error(\"This is an ERROR message.\")\n",
    "\n",
    "print(\"Logging setup with rotation has been initialized.\")\n"
   ]
  },
  {
   "cell_type": "code",
   "execution_count": 93,
   "id": "4928b865-372e-4f49-95c1-0d546247a881",
   "metadata": {},
   "outputs": [
    {
     "name": "stdout",
     "output_type": "stream",
     "text": [
      "Error: Attempted to access an invalid list index.\n"
     ]
    }
   ],
   "source": [
    "# 19. Write a program that handles both IndexError and KeyError using a try-except block?\n",
    "def handle_exceptions():\n",
    "    try:\n",
    "        # Attempt to access an invalid list index\n",
    "        numbers = [1, 2, 3]\n",
    "        print(numbers[5])  # IndexError: Out of range\n",
    "\n",
    "        # Attempt to access a non-existent dictionary key\n",
    "        data = {\"name\": \"Alice\", \"age\": 25}\n",
    "        print(data[\"country\"])  # KeyError: Key does not exist\n",
    "\n",
    "    except IndexError:\n",
    "        print(\"Error: Attempted to access an invalid list index.\")\n",
    "    except KeyError:\n",
    "        print(\"Error: Requested key does not exist in the dictionary.\")\n",
    "    except Exception as e:\n",
    "        print(f\"An unexpected error occurred: {e}\")\n",
    "\n",
    "# Run the function\n",
    "handle_exceptions()\n"
   ]
  },
  {
   "cell_type": "code",
   "execution_count": 95,
   "id": "68a1c089-120f-4469-b875-3524e0e3b523",
   "metadata": {},
   "outputs": [
    {
     "name": "stdout",
     "output_type": "stream",
     "text": [
      "Hello, world!\n",
      "This is new appended data.\n"
     ]
    }
   ],
   "source": [
    "# 20. How would you open a file and read its contents using a context manager in Python?\n",
    "# Open the file using a context manager and read its contents\n",
    "with open(\"example.txt\", \"r\") as file:\n",
    "    contents = file.read()\n",
    "\n",
    "# Print the file contents\n",
    "print(contents)\n"
   ]
  },
  {
   "cell_type": "code",
   "execution_count": 97,
   "id": "01f6bc54-d30f-4952-9761-18cab70deb40",
   "metadata": {},
   "outputs": [
    {
     "name": "stdout",
     "output_type": "stream",
     "text": [
      "The word 'python' appears 0 times in 'example.txt'.\n"
     ]
    }
   ],
   "source": [
    "# 21.  Write a Python program that reads a file and prints the number of occurrences of a specific wordF?\n",
    "def count_word_occurrences(file_name, target_word):\n",
    "    try:\n",
    "        # Open the file in read mode\n",
    "        with open(file_name, \"r\") as file:\n",
    "            content = file.read().lower()  # Read and convert text to lowercase for case-insensitive matching\n",
    "\n",
    "        # Count occurrences of the word\n",
    "        word_count = content.split().count(target_word.lower())\n",
    "        \n",
    "        print(f\"The word '{target_word}' appears {word_count} times in '{file_name}'.\")\n",
    "    \n",
    "    except FileNotFoundError:\n",
    "        print(f\"Error: The file '{file_name}' does not exist.\")\n",
    "    except Exception as e:\n",
    "        print(f\"An unexpected error occurred: {e}\")\n",
    "\n",
    "# Example usage\n",
    "file_name = \"example.txt\"\n",
    "target_word = \"python\"\n",
    "count_word_occurrences(file_name, target_word)\n"
   ]
  },
  {
   "cell_type": "code",
   "execution_count": 99,
   "id": "ab3b17e1-1264-4b94-98b6-18101bcb9dea",
   "metadata": {},
   "outputs": [
    {
     "name": "stdout",
     "output_type": "stream",
     "text": [
      "File Contents:\n",
      " Hello, world!\n",
      "This is new appended data.\n"
     ]
    }
   ],
   "source": [
    "# 22. How can you check if a file is empty before attempting to read its contents?\n",
    "import os\n",
    "\n",
    "file_name = \"example.txt\"\n",
    "\n",
    "if os.path.exists(file_name) and os.path.getsize(file_name) > 0:\n",
    "    with open(file_name, \"r\") as file:\n",
    "        contents = file.read()\n",
    "        print(\"File Contents:\\n\", contents)\n",
    "else:\n",
    "    print(f\"Error: '{file_name}' is either missing or empty.\")\n"
   ]
  },
  {
   "cell_type": "code",
   "execution_count": 101,
   "id": "b2e7719c-1b94-44b2-bfdf-2dfd1e91daa2",
   "metadata": {},
   "outputs": [
    {
     "name": "stdout",
     "output_type": "stream",
     "text": [
      "Error: The file 'non_existent_file.txt' does not exist.\n",
      "Errors have been logged in 'file_errors.log'.\n"
     ]
    }
   ],
   "source": [
    "# 23.  Write a Python program that writes to a log file when an error occurs during file handling?\n",
    "import logging\n",
    "\n",
    "# Configure logging settings\n",
    "logging.basicConfig(\n",
    "    filename=\"file_errors.log\",  # Log file name\n",
    "    level=logging.ERROR,  # Log only error messages\n",
    "    format=\"%(asctime)s - %(levelname)s - %(message)s\"\n",
    ")\n",
    "\n",
    "def read_file(file_name):\n",
    "    try:\n",
    "        with open(file_name, \"r\") as file:\n",
    "            content = file.read()\n",
    "            print(\"File Contents:\\n\", content)\n",
    "    except FileNotFoundError:\n",
    "        logging.error(f\"Error: The file '{file_name}' does not exist.\")\n",
    "        print(f\"Error: The file '{file_name}' does not exist.\")\n",
    "    except PermissionError:\n",
    "        logging.error(f\"Error: Permission denied for '{file_name}'.\")\n",
    "        print(f\"Error: Permission denied for '{file_name}'.\")\n",
    "    except Exception as e:\n",
    "        logging.error(f\"Unexpected error: {e}\")\n",
    "        print(f\"An unexpected error occurred: {e}\")\n",
    "\n",
    "# Example usage\n",
    "file_name = \"non_existent_file.txt\"\n",
    "read_file(file_name)\n",
    "\n",
    "print(\"Errors have been logged in 'file_errors.log'.\")\n"
   ]
  },
  {
   "cell_type": "code",
   "execution_count": null,
   "id": "f6885aa0-591f-4588-a314-9513b53aeab1",
   "metadata": {},
   "outputs": [],
   "source": []
  }
 ],
 "metadata": {
  "kernelspec": {
   "display_name": "Python 3 (ipykernel)",
   "language": "python",
   "name": "python3"
  },
  "language_info": {
   "codemirror_mode": {
    "name": "ipython",
    "version": 3
   },
   "file_extension": ".py",
   "mimetype": "text/x-python",
   "name": "python",
   "nbconvert_exporter": "python",
   "pygments_lexer": "ipython3",
   "version": "3.12.7"
  }
 },
 "nbformat": 4,
 "nbformat_minor": 5
}
